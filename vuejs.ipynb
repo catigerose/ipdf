{
 "cells": [
  {
   "cell_type": "markdown",
   "id": "8dfc9b03",
   "metadata": {},
   "source": [
    "# 导入包"
   ]
  },
  {
   "cell_type": "code",
   "execution_count": 1,
   "id": "7e32817b",
   "metadata": {
    "ExecuteTime": {
     "end_time": "2023-04-20T12:00:49.496655Z",
     "start_time": "2023-04-20T12:00:48.858952Z"
    },
    "scrolled": true
   },
   "outputs": [],
   "source": [
    "from feed_funcs import get_soup\n",
    "from bs4 import BeautifulSoup\n",
    "import pdfkit\n",
    "import os\n",
    "from PyPDF2 import PdfMerger\n",
    "path_wkhtmltopdf = r\"C:\\Program Files\\wkhtmltopdf\\bin\\wkhtmltopdf.exe\"\n",
    "config = pdfkit.configuration(wkhtmltopdf=path_wkhtmltopdf)"
   ]
  },
  {
   "cell_type": "code",
   "execution_count": 2,
   "id": "ecff8a86",
   "metadata": {
    "ExecuteTime": {
     "end_time": "2023-04-20T12:00:49.511686Z",
     "start_time": "2023-04-20T12:00:49.499666Z"
    }
   },
   "outputs": [],
   "source": [
    "domain = \"https://cn.vuejs.org\""
   ]
  },
  {
   "cell_type": "code",
   "execution_count": 3,
   "id": "61e12d70",
   "metadata": {
    "ExecuteTime": {
     "end_time": "2023-04-20T12:00:49.527273Z",
     "start_time": "2023-04-20T12:00:49.513691Z"
    }
   },
   "outputs": [],
   "source": [
    "theme=\"vuejs\""
   ]
  },
  {
   "cell_type": "code",
   "execution_count": 4,
   "id": "f0b14eed",
   "metadata": {
    "ExecuteTime": {
     "end_time": "2023-04-20T12:00:49.543059Z",
     "start_time": "2023-04-20T12:00:49.530264Z"
    }
   },
   "outputs": [],
   "source": [
    "path=\"./{}\".format(theme)\n",
    "# 判断结果\n",
    "if not os.path.exists(path):\n",
    "    os.makedirs(path)  "
   ]
  },
  {
   "cell_type": "markdown",
   "id": "0692daaf",
   "metadata": {},
   "source": [
    "# 侧边栏列表"
   ]
  },
  {
   "cell_type": "code",
   "execution_count": 5,
   "id": "0cd2f315",
   "metadata": {
    "ExecuteTime": {
     "end_time": "2023-04-20T12:01:01.992810Z",
     "start_time": "2023-04-20T12:00:49.545062Z"
    }
   },
   "outputs": [],
   "source": [
    "url = \"https://cn.vuejs.org/guide/introduction.html\"\n",
    "soup = get_soup(url)"
   ]
  },
  {
   "cell_type": "code",
   "execution_count": 6,
   "id": "a63261dc",
   "metadata": {
    "ExecuteTime": {
     "end_time": "2023-04-20T12:01:02.023385Z",
     "start_time": "2023-04-20T12:01:01.995492Z"
    }
   },
   "outputs": [
    {
     "data": {
      "text/plain": [
       "[<a class=\"link active\" data-v-8b27af05=\"\" data-v-c37fe633=\"\" href=\"/guide/introduction.html\"><p class=\"link-text\" data-v-8b27af05=\"\">简介</p></a>,\n",
       " <a class=\"link\" data-v-8b27af05=\"\" data-v-c37fe633=\"\" href=\"/guide/quick-start.html\"><p class=\"link-text\" data-v-8b27af05=\"\">快速上手</p></a>]"
      ]
     },
     "execution_count": 6,
     "metadata": {},
     "output_type": "execute_result"
    }
   ],
   "source": [
    "href_list = []\n",
    "names = []\n",
    "div_list=soup.find(\"nav\",id=\"VPSidebarNav\").find_all(\"div\",class_=\"group\")\n",
    "div_list[0].find_all(\"a\")"
   ]
  },
  {
   "cell_type": "code",
   "execution_count": 7,
   "id": "64f8653c",
   "metadata": {
    "ExecuteTime": {
     "end_time": "2023-04-20T12:01:02.039012Z",
     "start_time": "2023-04-20T12:01:02.026389Z"
    }
   },
   "outputs": [],
   "source": [
    "for div in div_list:\n",
    "    for a in div.find_all(\"a\"):\n",
    "        href_list.append(a[\"href\"])\n",
    "        names.append(a.get_text())"
   ]
  },
  {
   "cell_type": "code",
   "execution_count": 8,
   "id": "60078889",
   "metadata": {
    "ExecuteTime": {
     "end_time": "2023-04-20T12:01:02.054642Z",
     "start_time": "2023-04-20T12:01:02.042006Z"
    }
   },
   "outputs": [
    {
     "data": {
      "text/plain": [
       "'/guide/introduction.html'"
      ]
     },
     "execution_count": 8,
     "metadata": {},
     "output_type": "execute_result"
    }
   ],
   "source": [
    "href_list[0]\n"
   ]
  },
  {
   "cell_type": "code",
   "execution_count": 9,
   "id": "7bf1716d",
   "metadata": {
    "ExecuteTime": {
     "end_time": "2023-04-20T12:01:02.069812Z",
     "start_time": "2023-04-20T12:01:02.056653Z"
    },
    "scrolled": true
   },
   "outputs": [
    {
     "data": {
      "text/plain": [
       "'简介'"
      ]
     },
     "execution_count": 9,
     "metadata": {},
     "output_type": "execute_result"
    }
   ],
   "source": [
    "names[0]"
   ]
  },
  {
   "cell_type": "code",
   "execution_count": 12,
   "id": "0cf43040",
   "metadata": {
    "ExecuteTime": {
     "end_time": "2023-04-20T12:01:30.223825Z",
     "start_time": "2023-04-20T12:01:30.213004Z"
    }
   },
   "outputs": [
    {
     "data": {
      "text/plain": [
       "51"
      ]
     },
     "execution_count": 12,
     "metadata": {},
     "output_type": "execute_result"
    }
   ],
   "source": [
    "len(names)"
   ]
  },
  {
   "cell_type": "markdown",
   "id": "943ead0c",
   "metadata": {},
   "source": [
    "# 导出pdf"
   ]
  },
  {
   "cell_type": "code",
   "execution_count": 10,
   "id": "d60966ed",
   "metadata": {
    "ExecuteTime": {
     "end_time": "2023-04-20T12:01:02.100565Z",
     "start_time": "2023-04-20T12:01:02.073823Z"
    }
   },
   "outputs": [],
   "source": [
    "for i in range(len(names)):\n",
    "    name = names[i]\n",
    "\n",
    "\n",
    "    \n",
    "    if os.access(\"./{0}/{1}.pdf\".format(theme,name), os.F_OK):\n",
    "        #print(\"跳过：\",i,name)\n",
    "        pass\n",
    "    \n",
    "    else:\n",
    "        \n",
    "        try:\n",
    "            \n",
    "            url = \"https://cn.vuejs.org\"+href_list[i]\n",
    "    \n",
    "            soup = get_soup(url)\n",
    "            content = soup.find(\"main\").div\n",
    "\n",
    "            imgs = soup.find_all(\"img\")\n",
    "            for img in imgs:\n",
    "                if img.get('src'):\n",
    "                    if not (img[\"src\"].startswith('/') or img[\"src\"].startswith('http')):\n",
    "                        img[\"src\"]=domain+img[\"src\"]\n",
    "\n",
    "\n",
    "            links = soup.find_all(\"a\")\n",
    "            for link in links :\n",
    "                if link.get('href'):\n",
    "                    if not (link[\"href\"].startswith('/') or link[\"href\"].startswith('http')or link[\"href\"].startswith('javascript')):\n",
    "                        link[\"href\"]=domain+link[\"href\"]\n",
    "                        \n",
    "                        \n",
    "\n",
    "            new_tag = soup.new_tag(\"base\", href=domain,target=\"_blank\")\n",
    "            if soup.head:\n",
    "                soup.head.title.insert_after(new_tag)\n",
    "            #soup.body.style.append(\"h1{color: red;background-color: lightblue;}\")\n",
    "            \n",
    "            new_soup=BeautifulSoup(\" <html>  <head> </head> <body> <div> </div/> </body></html>\", 'html.parser')\n",
    "            new_soup.head.replace_with(soup.head)\n",
    "            new_soup.body.div.replace_with(content)\n",
    "\n",
    "\n",
    "            print(\"处理中：\",i,name,end=\"--\")\n",
    "            pdfkit.from_string(str(new_soup),r\"./{0}/{1}.pdf\".format(theme,name), configuration=config)\n",
    "            print(\"已写入pdf：\",i,name ,end=\"-\")\n",
    "\n",
    "\n",
    "        except:\n",
    "            print(\"-------------------------------------------------------异常：\",i)\n",
    "            \n",
    "            continue"
   ]
  },
  {
   "cell_type": "code",
   "execution_count": 11,
   "id": "2f6e6a75",
   "metadata": {
    "ExecuteTime": {
     "end_time": "2023-04-20T12:01:05.820459Z",
     "start_time": "2023-04-20T12:01:02.103558Z"
    }
   },
   "outputs": [],
   "source": [
    "file_merger =PdfMerger()\n",
    "for i in range(len(names)):\n",
    "    name = names[i]\n",
    "\n",
    "    \n",
    "    try:\n",
    "        file_merger.append(\"./{0}/{1}.pdf\".format(theme,name)) \n",
    "        #pdfkit.from_file(name +\".html\",name +\".pdf\", configuration=config)\n",
    "    except:\n",
    "        print(\"异常：\",i,name)\n",
    "        \n",
    "        continue\n",
    "file_merger.write(\"{0}.pdf\".format(theme))\n",
    "file_merger.close()"
   ]
  },
  {
   "cell_type": "code",
   "execution_count": null,
   "id": "5199afdb",
   "metadata": {},
   "outputs": [],
   "source": []
  }
 ],
 "metadata": {
  "kernelspec": {
   "display_name": "Python 3 (ipykernel)",
   "language": "python",
   "name": "python3"
  },
  "language_info": {
   "codemirror_mode": {
    "name": "ipython",
    "version": 3
   },
   "file_extension": ".py",
   "mimetype": "text/x-python",
   "name": "python",
   "nbconvert_exporter": "python",
   "pygments_lexer": "ipython3",
   "version": "3.10.10"
  },
  "toc": {
   "base_numbering": 1,
   "nav_menu": {},
   "number_sections": true,
   "sideBar": true,
   "skip_h1_title": false,
   "title_cell": "Table of Contents",
   "title_sidebar": "Contents",
   "toc_cell": false,
   "toc_position": {},
   "toc_section_display": true,
   "toc_window_display": false
  }
 },
 "nbformat": 4,
 "nbformat_minor": 5
}
