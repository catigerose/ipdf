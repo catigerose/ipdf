{
 "cells": [
  {
   "cell_type": "code",
   "execution_count": 1,
   "id": "654938d7",
   "metadata": {
    "ExecuteTime": {
     "end_time": "2023-04-22T07:16:31.754871Z",
     "start_time": "2023-04-22T07:16:31.710181Z"
    }
   },
   "outputs": [],
   "source": [
    "import fitz \n",
    "import os"
   ]
  },
  {
   "cell_type": "code",
   "execution_count": 2,
   "id": "76a5babb",
   "metadata": {
    "ExecuteTime": {
     "end_time": "2023-04-22T07:16:31.772240Z",
     "start_time": "2023-04-22T07:16:31.756701Z"
    }
   },
   "outputs": [],
   "source": [
    "#gap = 3 注释之间的间隔\n",
    "def refresh_cursor(cursor,h,gap=0):\n",
    "    return fitz.Rect(0,cursor.y1+gap,page.rect.x1,cursor.y1+h+gap)\n",
    "    "
   ]
  },
  {
   "cell_type": "code",
   "execution_count": 3,
   "id": "5c8f9acd",
   "metadata": {
    "ExecuteTime": {
     "end_time": "2023-04-22T07:16:31.921047Z",
     "start_time": "2023-04-22T07:16:31.775259Z"
    }
   },
   "outputs": [],
   "source": [
    "pdf_names = next(os.walk(\"./raw_pdf/\"))[-1]\n",
    "for pdf_name in pdf_names:\n",
    "    #print(pdf_path)\n",
    "\n",
    "    fn = \"./raw_pdf/\"+pdf_name\n",
    "\n",
    "    doc =fitz.open(fn) # 打开笔记文件\n",
    "    clips= fitz.open()# 创建一个空的document对象， 用于插入注释剪切横条\n",
    "\n",
    "\n",
    "    #初始化一个新页面和初始化游标\n",
    "    page=doc[0]\n",
    "    page_width = page.rect.width\n",
    "    page_height =page.rect.height\n",
    "\n",
    "    # 创建一个新页面\n",
    "    new_page = clips.new_page(-1,  \n",
    "                       width = page_width,\n",
    "                       height = page_height )\n",
    "\n",
    "    cursor = initial_cursor = fitz.Rect(0,0, page.rect.x1, 0)  # 页面插入注释的游标rect，初始位置为页面顶部的横线\n",
    "\n",
    "\n",
    "    for i in range(doc.page_count):\n",
    "        #print(i)\n",
    "        page = doc[i] #加载一个页面\n",
    "        page_width = page.rect.width\n",
    "        page_height =page.rect.height\n",
    "        annots = list(page.annots()) #获取该页面所有注释\n",
    "\n",
    "\n",
    "\n",
    "\n",
    "        for j in range(len(annots)) :\n",
    "            annot = annots[j] # 获取一个注释\n",
    "            rect = annot.rect #获取该注释坐标\n",
    "            annot_wide_rect = fitz.Rect(0,rect.y0, page.rect.x1, rect.y1) # 将注释坐标拉到页面宽度:x0=0,x1=page.rect.x1  \n",
    "            h= annot_wide_rect.height  #注释的高度\n",
    "\n",
    "            cursor =refresh_cursor(cursor,h) # 更新页面插入注释的游标rect\n",
    "            #判断是否超出页面底部，如果超出，新建一个页面；初始化游标，然后更新游标 \n",
    "            if cursor.y1>page_height:\n",
    "                # 创建新页面\n",
    "                new_page= clips.new_page(-1,  \n",
    "                       width = page_width,\n",
    "                       height = page_height )\n",
    "\n",
    "                cursor =refresh_cursor(initial_cursor,h) # 初始化游标，然后更新游标 \n",
    "\n",
    "            # 新页面插入剪切横条     \n",
    "            new_page.show_pdf_page(\n",
    "                    cursor ,  # fill all new page with the image\n",
    "                    doc,  # input document\n",
    "                    i,  # input page number\n",
    "                    clip = annot_wide_rect,  # which part to use of input page\n",
    "                )\n",
    "\n",
    "    clips.save(\"./clips/\"+\"clip_\"+pdf_name,\n",
    "             garbage=3,  # eliminate duplicate objects\n",
    "             deflate=True,  # compress stuff where possible\n",
    "    )\n",
    "    doc.close()\n",
    "    clips.close()"
   ]
  },
  {
   "cell_type": "code",
   "execution_count": null,
   "id": "883f087f",
   "metadata": {},
   "outputs": [],
   "source": []
  },
  {
   "cell_type": "code",
   "execution_count": null,
   "id": "a5871b96",
   "metadata": {},
   "outputs": [],
   "source": []
  }
 ],
 "metadata": {
  "kernelspec": {
   "display_name": "Python 3 (ipykernel)",
   "language": "python",
   "name": "python3"
  },
  "language_info": {
   "codemirror_mode": {
    "name": "ipython",
    "version": 3
   },
   "file_extension": ".py",
   "mimetype": "text/x-python",
   "name": "python",
   "nbconvert_exporter": "python",
   "pygments_lexer": "ipython3",
   "version": "3.10.10"
  },
  "toc": {
   "base_numbering": 1,
   "nav_menu": {},
   "number_sections": true,
   "sideBar": true,
   "skip_h1_title": false,
   "title_cell": "Table of Contents",
   "title_sidebar": "Contents",
   "toc_cell": false,
   "toc_position": {},
   "toc_section_display": true,
   "toc_window_display": false
  }
 },
 "nbformat": 4,
 "nbformat_minor": 5
}
