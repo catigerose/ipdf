{
 "cells": [
  {
   "cell_type": "markdown",
   "id": "8dfc9b03",
   "metadata": {},
   "source": [
    "# 导入包"
   ]
  },
  {
   "cell_type": "code",
   "execution_count": 1,
   "id": "7e32817b",
   "metadata": {
    "ExecuteTime": {
     "end_time": "2023-04-20T05:50:16.926343Z",
     "start_time": "2023-04-20T05:50:16.242373Z"
    },
    "scrolled": true
   },
   "outputs": [],
   "source": [
    "from feed_funcs import get_soup\n",
    "import pdfkit\n",
    "import os\n",
    "from PyPDF2 import PdfMerger\n",
    "path_wkhtmltopdf = r\"C:\\Program Files\\wkhtmltopdf\\bin\\wkhtmltopdf.exe\"\n",
    "config = pdfkit.configuration(wkhtmltopdf=path_wkhtmltopdf)"
   ]
  },
  {
   "cell_type": "markdown",
   "id": "0692daaf",
   "metadata": {},
   "source": [
    "# 侧边栏列表"
   ]
  },
  {
   "cell_type": "code",
   "execution_count": 2,
   "id": "8b53230a",
   "metadata": {
    "ExecuteTime": {
     "end_time": "2023-04-20T05:50:16.942031Z",
     "start_time": "2023-04-20T05:50:16.929873Z"
    }
   },
   "outputs": [],
   "source": [
    "theme = \"nodejs\""
   ]
  },
  {
   "cell_type": "code",
   "execution_count": 3,
   "id": "18edad5f",
   "metadata": {
    "ExecuteTime": {
     "end_time": "2023-04-20T05:50:16.957350Z",
     "start_time": "2023-04-20T05:50:16.945032Z"
    }
   },
   "outputs": [],
   "source": [
    "path=\"./{}\".format(theme)\n",
    "# 判断结果\n",
    "if not os.path.exists(path):\n",
    "    os.makedirs(path)  \n",
    "domain = \"https://www.w3schools.com/{}/\".format(theme) "
   ]
  },
  {
   "cell_type": "code",
   "execution_count": 4,
   "id": "ac9c3e13",
   "metadata": {
    "ExecuteTime": {
     "end_time": "2023-04-20T05:50:20.648141Z",
     "start_time": "2023-04-20T05:50:16.960886Z"
    }
   },
   "outputs": [
    {
     "data": {
      "text/plain": [
       "44"
      ]
     },
     "execution_count": 4,
     "metadata": {},
     "output_type": "execute_result"
    }
   ],
   "source": [
    "try:\n",
    "    soup = get_soup(domain+\"default.asp\")\n",
    "    a_list = soup.find(\"div\",id=\"leftmenuinnerinner\").find_all(\"a\")\n",
    "except:\n",
    "    soup = get_soup(domain+\"index.php\")\n",
    "    a_list = soup.find(\"div\",id=\"leftmenuinnerinner\").find_all(\"a\")\n",
    "asp_list = [(a[\"href\"],a.get_text()) for a in a_list]\n",
    "asp_list2 = []\n",
    "for i in range(len(asp_list)-1):\n",
    "    if asp_list[i][0]!=asp_list[i+1][0]:\n",
    "        asp_list2.append(asp_list[i])\n",
    "len(asp_list2)"
   ]
  },
  {
   "cell_type": "markdown",
   "id": "943ead0c",
   "metadata": {},
   "source": [
    "# 导出pdf"
   ]
  },
  {
   "cell_type": "code",
   "execution_count": null,
   "id": "d60966ed",
   "metadata": {
    "ExecuteTime": {
     "start_time": "2023-04-20T05:50:16.243Z"
    }
   },
   "outputs": [
    {
     "name": "stdout",
     "output_type": "stream",
     "text": [
      "处理中： 40 RasPi WebSocket\n"
     ]
    }
   ],
   "source": [
    "for i in  range(0,len(asp_list2)):\n",
    "    relative_url = asp_list2[i][0]\n",
    "    if relative_url.startswith('/'):\n",
    "        url =  \"https://www.w3schools.com{}\".format(relative_url) \n",
    "    else:\n",
    "        url =  domain + relative_url\n",
    "        \n",
    "\n",
    "    name =asp_list2[i][-1].replace('/','-')\n",
    "    name=name.replace(\"?\",\"\")\n",
    "    \n",
    "    if os.access(\"./{0}/{1}.pdf\".format(theme,name), os.F_OK):\n",
    "        #print(\"跳过：\",i,name)\n",
    "        pass\n",
    "    \n",
    "    else:\n",
    "        \n",
    "        try:\n",
    "            soup = get_soup(url)\n",
    "\n",
    "            imgs = soup.find_all(\"img\")\n",
    "            for img in imgs:\n",
    "                if img.get('src'):\n",
    "                    if not (img[\"src\"].startswith('/') or img[\"src\"].startswith('http')):\n",
    "                        img[\"src\"]=domain+img[\"src\"]\n",
    "\n",
    "\n",
    "            links = soup.find_all(\"a\")\n",
    "            for link in links :\n",
    "                if link.get('href'):\n",
    "                    if not (link[\"href\"].startswith('/') or link[\"href\"].startswith('http')or link[\"href\"].startswith('javascript')):\n",
    "                        link[\"href\"]=domain+link[\"href\"]\n",
    "\n",
    "\n",
    "\n",
    "            new_tag = soup.new_tag(\"base\", href=\"https://www.w3schools.com/\",target=\"_blank\")\n",
    "            if soup.head:\n",
    "                soup.head.title.insert_after(new_tag)\n",
    "            soup.body.style.append(\"h1{color: red;background-color: lightblue;}\")\n",
    "\n",
    "            dels = []\n",
    "            dels.append(soup.find(\"div\",id=\"leftmenuinner\"))\n",
    "            dels.append(soup.find(\"div\",id=\"pagetop\"))\n",
    "            dels.append(soup.find(\"div\",id=\"topnav\"))\n",
    "            dels.append(soup.find(\"div\",id=\"right\"))\n",
    "            dels.append(soup.find(\"div\",id=\"footer\"))\n",
    "            dels.append(soup.find(\"form\",id=\"w3-exerciseform\"))\n",
    "            dels.append(soup.find(\"div\",id=\"mainLeaderboard\"))\n",
    "            dels.append(soup.find(\"div\",id=\"sidenav\"))\n",
    "            dels.append(soup.find(\"div\",class_=\"w3-clear nextprev\"))\n",
    "            if soup.find_all(\"div\",class_=\"w3-clear nextprev\"):\n",
    "                dels.append(soup.find_all(\"div\",class_=\"w3-clear nextprev\")[-1])\n",
    "            for tag in dels:\n",
    "                try:\n",
    "                    tag.decompose()\n",
    "                except:\n",
    "                    continue    \n",
    "            print(\"处理中：\",i,name )\n",
    "            pdfkit.from_string(str(soup),r\"./{0}/{1}.pdf\".format(theme,name), configuration=config)\n",
    "\n",
    "\n",
    "        except:\n",
    "            print(\"异常：\",i)\n",
    "            \n",
    "            continue"
   ]
  },
  {
   "cell_type": "code",
   "execution_count": null,
   "id": "2f6e6a75",
   "metadata": {
    "ExecuteTime": {
     "start_time": "2023-04-20T05:50:16.244Z"
    }
   },
   "outputs": [],
   "source": [
    "file_merger =PdfMerger()\n",
    "for i in  range(0,len(asp_list2)):\n",
    "    url = domain+asp_list2[i][0]\n",
    "    name =asp_list2[i][-1].replace('/','-') \n",
    "    name=name.replace(\"?\",\"\")\n",
    "    \n",
    "    try:\n",
    "        file_merger.append(\"./{0}/{1}.pdf\".format(theme,name)) \n",
    "        #pdfkit.from_file(name +\".html\",name +\".pdf\", configuration=config)\n",
    "    except:\n",
    "        print(\"异常：\",i,name)\n",
    "        \n",
    "        continue\n",
    "file_merger.write(\"{0}.pdf\".format(theme))\n",
    "file_merger.close()"
   ]
  },
  {
   "cell_type": "code",
   "execution_count": null,
   "id": "5199afdb",
   "metadata": {},
   "outputs": [],
   "source": []
  }
 ],
 "metadata": {
  "kernelspec": {
   "display_name": "Python 3 (ipykernel)",
   "language": "python",
   "name": "python3"
  },
  "language_info": {
   "codemirror_mode": {
    "name": "ipython",
    "version": 3
   },
   "file_extension": ".py",
   "mimetype": "text/x-python",
   "name": "python",
   "nbconvert_exporter": "python",
   "pygments_lexer": "ipython3",
   "version": "3.10.10"
  },
  "toc": {
   "base_numbering": 1,
   "nav_menu": {},
   "number_sections": true,
   "sideBar": true,
   "skip_h1_title": false,
   "title_cell": "Table of Contents",
   "title_sidebar": "Contents",
   "toc_cell": false,
   "toc_position": {},
   "toc_section_display": true,
   "toc_window_display": false
  }
 },
 "nbformat": 4,
 "nbformat_minor": 5
}
