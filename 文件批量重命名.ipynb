{
 "cells": [
  {
   "cell_type": "code",
   "execution_count": 103,
   "id": "81eaefda",
   "metadata": {
    "ExecuteTime": {
     "end_time": "2023-04-19T15:07:38.909598Z",
     "start_time": "2023-04-19T15:07:38.897970Z"
    }
   },
   "outputs": [],
   "source": [
    "from feed_funcs import get_soup\n",
    "from bs4 import BeautifulSoup\n",
    "import re\n",
    "import os"
   ]
  },
  {
   "cell_type": "code",
   "execution_count": 104,
   "id": "4a157189",
   "metadata": {
    "ExecuteTime": {
     "end_time": "2023-04-19T15:07:39.314508Z",
     "start_time": "2023-04-19T15:07:39.255145Z"
    }
   },
   "outputs": [],
   "source": [
    "with open(\"1.html\",encoding=\"utf-8\") as fp:\n",
    "    soup = BeautifulSoup(fp, 'html.parser')"
   ]
  },
  {
   "cell_type": "code",
   "execution_count": 105,
   "id": "ab80a8ee",
   "metadata": {
    "ExecuteTime": {
     "end_time": "2023-04-19T15:07:39.688548Z",
     "start_time": "2023-04-19T15:07:39.669700Z"
    },
    "scrolled": true
   },
   "outputs": [
    {
     "data": {
      "text/plain": [
       "141"
      ]
     },
     "execution_count": 105,
     "metadata": {},
     "output_type": "execute_result"
    }
   ],
   "source": [
    "li_list = [x[\"title\"] for x in soup.find_all(\"a\")]\n",
    "len(li_list)"
   ]
  },
  {
   "cell_type": "code",
   "execution_count": 106,
   "id": "5d650f58",
   "metadata": {
    "ExecuteTime": {
     "end_time": "2023-04-19T15:07:42.279994Z",
     "start_time": "2023-04-19T15:07:42.272996Z"
    }
   },
   "outputs": [],
   "source": [
    "dict2 = {int(i.split(\"_\")[0] ):i for i in li_list}"
   ]
  },
  {
   "cell_type": "code",
   "execution_count": 108,
   "id": "bef297bb",
   "metadata": {
    "ExecuteTime": {
     "end_time": "2023-04-19T15:07:56.598686Z",
     "start_time": "2023-04-19T15:07:56.584260Z"
    }
   },
   "outputs": [
    {
     "data": {
      "text/plain": [
       "'001_尚硅谷react教程_react简介'"
      ]
     },
     "execution_count": 108,
     "metadata": {},
     "output_type": "execute_result"
    }
   ],
   "source": [
    "dict2[1]"
   ]
  },
  {
   "cell_type": "code",
   "execution_count": 125,
   "id": "13ea7417",
   "metadata": {
    "ExecuteTime": {
     "end_time": "2023-04-19T15:13:30.403392Z",
     "start_time": "2023-04-19T15:13:30.397223Z"
    }
   },
   "outputs": [],
   "source": [
    "path=\"./sgg\"    \n",
    "\n",
    "#获取该目录下所有文件，存入列表中\n",
    "fileList=os.listdir(path)"
   ]
  },
  {
   "cell_type": "code",
   "execution_count": 116,
   "id": "e9885751",
   "metadata": {
    "ExecuteTime": {
     "end_time": "2023-04-19T15:08:58.259842Z",
     "start_time": "2023-04-19T15:08:58.253014Z"
    }
   },
   "outputs": [],
   "source": [
    "dict1 = {int(i.split(\"-\")[0]):i for i in fileList }"
   ]
  },
  {
   "cell_type": "code",
   "execution_count": 117,
   "id": "7a7d42f5",
   "metadata": {
    "ExecuteTime": {
     "end_time": "2023-04-19T15:09:11.308199Z",
     "start_time": "2023-04-19T15:09:09.383058Z"
    }
   },
   "outputs": [
    {
     "name": "stdout",
     "output_type": "stream",
     "text": [
      "01-32.mp4\n",
      "./sgg\\01-32.mp4 ======> ./sgg\\001_尚硅谷react教程_react简介.mp4\n",
      "02-32.mp4\n",
      "./sgg\\02-32.mp4 ======> ./sgg\\002_尚硅谷react教程_hello_react案例.mp4\n",
      "03-32.mp4\n",
      "./sgg\\03-32.mp4 ======> ./sgg\\003_尚硅谷react教程_虚拟DOM的两种创建方式.mp4\n",
      "04-32.mp4\n",
      "./sgg\\04-32.mp4 ======> ./sgg\\004_尚硅谷react教程_虚拟DOM与真实DOM.mp4\n",
      "05-32.mp4\n",
      "./sgg\\05-32.mp4 ======> ./sgg\\005_尚硅谷react教程_jsx语法规则.mp4\n",
      "06-32.mp4\n",
      "./sgg\\06-32.mp4 ======> ./sgg\\006_尚硅谷react教程_jsx小练习.mp4\n",
      "07-32.mp4\n",
      "./sgg\\07-32.mp4 ======> ./sgg\\007_尚硅谷react教程_组件与模块.mp4\n",
      "08-32.mp4\n",
      "./sgg\\08-32.mp4 ======> ./sgg\\008_尚硅谷react教程_开发者工具的安装.mp4\n",
      "09-32.mp4\n",
      "./sgg\\09-32.mp4 ======> ./sgg\\009_尚硅谷react教程_函数式组件.mp4\n",
      "10-32.mp4\n",
      "./sgg\\10-32.mp4 ======> ./sgg\\010_尚硅谷react教程_复习类相关知识.mp4\n",
      "11-32.mp4\n",
      "./sgg\\11-32.mp4 ======> ./sgg\\011_尚硅谷react教程_类式组件.mp4\n",
      "12-32.mp4\n",
      "./sgg\\12-32.mp4 ======> ./sgg\\012_尚硅谷react教程_对state的理解.mp4\n",
      "13-32.mp4\n",
      "./sgg\\13-32.mp4 ======> ./sgg\\013_尚硅谷react教程_初始化state.mp4\n",
      "14-32.mp4\n",
      "./sgg\\14-32.mp4 ======> ./sgg\\014_尚硅谷react教程_react中的事件绑定.mp4\n",
      "15-32.mp4\n",
      "./sgg\\15-32.mp4 ======> ./sgg\\015_尚硅谷react教程_类中方法中的this.mp4\n",
      "16-32.mp4\n",
      "./sgg\\16-32.mp4 ======> ./sgg\\016_尚硅谷react教程_解决类中this指向问题.mp4\n",
      "17-32.mp4\n",
      "./sgg\\17-32.mp4 ======> ./sgg\\017_尚硅谷react教程_setState的使用.mp4\n",
      "18-32.mp4\n",
      "./sgg\\18-32.mp4 ======> ./sgg\\018_尚硅谷react教程_state的简写方式.mp4\n",
      "19-32.mp4\n",
      "./sgg\\19-32.mp4 ======> ./sgg\\019_尚硅谷react教程_总结state.mp4\n",
      "20-32.mp4\n",
      "./sgg\\20-32.mp4 ======> ./sgg\\020_尚硅谷react教程_props的基本使用.mp4\n",
      "21-32.mp4\n",
      "./sgg\\21-32.mp4 ======> ./sgg\\021_尚硅谷react教程_批量传递props.mp4\n",
      "22-32.mp4\n",
      "./sgg\\22-32.mp4 ======> ./sgg\\022_尚硅谷react教程_对props进行限制.mp4\n",
      "23-32.mp4\n",
      "./sgg\\23-32.mp4 ======> ./sgg\\023_尚硅谷react教程_props的简写方式.mp4\n",
      "24-32.mp4\n",
      "./sgg\\24-32.mp4 ======> ./sgg\\024_尚硅谷react教程_类式组件中的构造器与props.mp4\n",
      "25-32.mp4\n",
      "./sgg\\25-32.mp4 ======> ./sgg\\025_尚硅谷react教程_函数式组件使用props.mp4\n",
      "26-32.mp4\n",
      "./sgg\\26-32.mp4 ======> ./sgg\\026_尚硅谷react教程_总结props.mp4\n",
      "27-32.mp4\n",
      "./sgg\\27-32.mp4 ======> ./sgg\\027_尚硅谷react教程_字符串形式的ref.mp4\n",
      "28-32.mp4\n",
      "./sgg\\28-32.mp4 ======> ./sgg\\028_尚硅谷react教程_回调形式的ref.mp4\n",
      "29-32.mp4\n",
      "./sgg\\29-32.mp4 ======> ./sgg\\029_尚硅谷react教程_回调ref中调用次数的问题.mp4\n",
      "30-32.mp4\n",
      "./sgg\\30-32.mp4 ======> ./sgg\\030_尚硅谷react教程_createRef的使用.mp4\n",
      "31-32.mp4\n",
      "./sgg\\31-32.mp4 ======> ./sgg\\031_尚硅谷react教程_总结ref.mp4\n",
      "32-32.mp4\n",
      "./sgg\\32-32.mp4 ======> ./sgg\\032_尚硅谷react教程_react中的事件处理.mp4\n",
      "33-32.mp4\n",
      "./sgg\\33-32.mp4 ======> ./sgg\\033_尚硅谷react教程_非受控组件.mp4\n",
      "34-32.mp4\n",
      "./sgg\\34-32.mp4 ======> ./sgg\\034_尚硅谷react教程_受控组件.mp4\n",
      "35-32.mp4\n",
      "./sgg\\35-32.mp4 ======> ./sgg\\035_尚硅谷react教程_高阶函数_函数柯里化.mp4\n",
      "36-32.mp4\n",
      "./sgg\\36-32.mp4 ======> ./sgg\\036_尚硅谷react教程_不用柯里化的写法.mp4\n",
      "37-32.mp4\n",
      "./sgg\\37-32.mp4 ======> ./sgg\\037_尚硅谷react教程_引出生命周期.mp4\n",
      "38-32.mp4\n",
      "./sgg\\38-32.mp4 ======> ./sgg\\038_尚硅谷react教程_生命周期(旧)_组件挂载流程.mp4\n",
      "39-32.mp4\n",
      "./sgg\\39-32.mp4 ======> ./sgg\\039_尚硅谷react教程_生命周期(旧)_setState流程.mp4\n",
      "40-32.mp4\n",
      "./sgg\\40-32.mp4 ======> ./sgg\\040_尚硅谷react教程_生命周期(旧)_forceUpdate流程.mp4\n",
      "41-32.mp4\n",
      "./sgg\\41-32.mp4 ======> ./sgg\\041_尚硅谷react教程_生命周期(旧)_父组件render流程.mp4\n",
      "42-32.mp4\n",
      "./sgg\\42-32.mp4 ======> ./sgg\\042_尚硅谷react教程_总结生命周期(旧).mp4\n",
      "43-32.mp4\n",
      "./sgg\\43-32.mp4 ======> ./sgg\\043_尚硅谷react教程_对比新旧生命周期.mp4\n",
      "44-32.mp4\n",
      "./sgg\\44-32.mp4 ======> ./sgg\\044_尚硅谷react教程_getDerivedStateFromProps.mp4\n",
      "45-32.mp4\n",
      "./sgg\\45-32.mp4 ======> ./sgg\\045_尚硅谷react教程_getSnapshotBeforeUpdate.mp4\n",
      "46-32.mp4\n",
      "./sgg\\46-32.mp4 ======> ./sgg\\046_尚硅谷react教程_getSnapshotBeforeUpdate举例.mp4\n",
      "47-32.mp4\n",
      "./sgg\\47-32.mp4 ======> ./sgg\\047_尚硅谷react教程_总结生命周期(新).mp4\n",
      "48-32.mp4\n",
      "./sgg\\48-32.mp4 ======> ./sgg\\048_尚硅谷react教程_DOM的diffing算法.mp4\n",
      "49-32.mp4\n",
      "./sgg\\49-32.mp4 ======> ./sgg\\049_尚硅谷react教程_初始化react脚手架.mp4\n",
      "50-32.mp4\n",
      "./sgg\\50-32.mp4 ======> ./sgg\\050_尚硅谷react教程_脚手架文件介绍_public.mp4\n",
      "51-32.mp4\n",
      "./sgg\\51-32.mp4 ======> ./sgg\\051_尚硅谷react教程_脚手架文件介绍_src.mp4\n",
      "52-32.mp4\n",
      "./sgg\\52-32.mp4 ======> ./sgg\\052_尚硅谷react教程_一个简单的Hello组件.mp4\n",
      "53-32.mp4\n",
      "./sgg\\53-32.mp4 ======> ./sgg\\053_尚硅谷react教程_样式的模块化.mp4\n",
      "54-32.mp4\n",
      "./sgg\\54-32.mp4 ======> ./sgg\\054_尚硅谷react教程_vscode中react插件的安装.mp4\n",
      "55-32.mp4\n",
      "./sgg\\55-32.mp4 ======> ./sgg\\055_尚硅谷_react教程_组件化编码流程.mp4\n",
      "56-32.mp4\n",
      "./sgg\\56-32.mp4 ======> ./sgg\\056_尚硅谷_react教程_TodoList案例_静态组件.mp4\n",
      "57-32.mp4\n",
      "./sgg\\57-32.mp4 ======> ./sgg\\057_尚硅谷_react教程_TodoList案例_动态初始化列表.mp4\n",
      "58-32.mp4\n",
      "./sgg\\58-32.mp4 ======> ./sgg\\058_尚硅谷_react教程_TodoList案例_添加todo.mp4\n",
      "59-32.mp4\n",
      "./sgg\\59-32.mp4 ======> ./sgg\\059_尚硅谷_react教程_TodoList案例_鼠标移入效果.mp4\n",
      "60-32.mp4\n",
      "./sgg\\60-32.mp4 ======> ./sgg\\060_尚硅谷_react教程_TodoList案例_添加一个todo.mp4\n",
      "61-32.mp4\n",
      "./sgg\\61-32.mp4 ======> ./sgg\\061_尚硅谷_react教程_TodoList案例_对props进行限制.mp4\n",
      "62-32.mp4\n",
      "./sgg\\62-32.mp4 ======> ./sgg\\062_尚硅谷_react教程_TodoList案例_删除一个todo.mp4\n",
      "63-32.mp4\n",
      "./sgg\\63-32.mp4 ======> ./sgg\\063_尚硅谷_react教程_TodoList案例_实现底部功能.mp4\n",
      "64-32.mp4\n",
      "./sgg\\64-32.mp4 ======> ./sgg\\064_尚硅谷_react教程_TodoList案例_总结TodoList案例.mp4\n",
      "65-32.mp4\n",
      "./sgg\\65-32.mp4 ======> ./sgg\\065_尚硅谷_react教程_脚手架配置代理_方法1.mp4\n",
      "66-32.mp4\n",
      "./sgg\\66-32.mp4 ======> ./sgg\\066_尚硅谷_react教程_脚手架配置代理_方法2.mp4\n",
      "67-32.mp4\n",
      "./sgg\\67-32.mp4 ======> ./sgg\\067_尚硅谷_react教程_github搜索案例_静态组件.mp4\n",
      "68-32.mp4\n",
      "./sgg\\68-32.mp4 ======> ./sgg\\068_尚硅谷_react教程_github搜索案例_axios发送请求.mp4\n",
      "69-32.mp4\n",
      "./sgg\\69-32.mp4 ======> ./sgg\\069_尚硅谷_react教程_github搜索案例_展示数据.mp4\n",
      "70-32.mp4\n",
      "./sgg\\70-32.mp4 ======> ./sgg\\070_尚硅谷_react教程_github搜索案例_完成案例.mp4\n",
      "71-32.mp4\n",
      "./sgg\\71-32.mp4 ======> ./sgg\\071_尚硅谷_react教程_消息订阅与发布技_pubsub.mp4\n",
      "72-32.mp4\n",
      "./sgg\\72-32.mp4 ======> ./sgg\\072_尚硅谷_react教程_fetch发送请求.mp4\n",
      "73-32.mp4\n",
      "./sgg\\73-32.mp4 ======> ./sgg\\073_尚硅谷_react教程_总结github搜索案例.mp4\n",
      "74-32.mp4\n",
      "./sgg\\74-32.mp4 ======> ./sgg\\074_尚硅谷_react教程_对SPA应用的理解.mp4\n",
      "75-32.mp4\n",
      "./sgg\\75-32.mp4 ======> ./sgg\\075_尚硅谷_react教程_对路由的理解.mp4\n",
      "76-32.mp4\n",
      "./sgg\\76-32.mp4 ======> ./sgg\\076_尚硅谷_react教程_前端路由原理.mp4\n",
      "77-32.mp4\n",
      "./sgg\\77-32.mp4 ======> ./sgg\\077_尚硅谷_react教程_路由的基本使用.mp4\n",
      "78-32.mp4\n",
      "./sgg\\78-32.mp4 ======> ./sgg\\078_尚硅谷_react教程_路由组件与一般组件.mp4\n",
      "79-32.mp4\n",
      "./sgg\\79-32.mp4 ======> ./sgg\\079_尚硅谷_react教程_NavLink的使用.mp4\n",
      "80-32.mp4\n",
      "./sgg\\80-32.mp4 ======> ./sgg\\080_尚硅谷_react教程_封装NavLink组件.mp4\n",
      "81-32.mp4\n",
      "./sgg\\81-32.mp4 ======> ./sgg\\081_尚硅谷_react教程_Switch的使用.mp4\n",
      "82-32.mp4\n",
      "./sgg\\82-32.mp4 ======> ./sgg\\082_尚硅谷_react教程_解决样式丢失问题.mp4\n",
      "83-32.mp4\n",
      "./sgg\\83-32.mp4 ======> ./sgg\\083_尚硅谷_react教程_路由的模糊匹配与严格匹配.mp4\n",
      "84-32.mp4\n",
      "./sgg\\84-32.mp4 ======> ./sgg\\084_尚硅谷_react教程_Redirect的使用.mp4\n",
      "85-32.mp4\n",
      "./sgg\\85-32.mp4 ======> ./sgg\\085_尚硅谷_react教程_嵌套路由.mp4\n",
      "86-32.mp4\n",
      "./sgg\\86-32.mp4 ======> ./sgg\\086_尚硅谷_react教程_向路由组件传递params参数.mp4\n",
      "87-32.mp4\n",
      "./sgg\\87-32.mp4 ======> ./sgg\\087_尚硅谷_react教程_向路由组件传递search参数.mp4\n",
      "88-32.mp4\n",
      "./sgg\\88-32.mp4 ======> ./sgg\\088_尚硅谷_react教程_向路由组件传递state参数.mp4\n",
      "89-32.mp4\n",
      "./sgg\\89-32.mp4 ======> ./sgg\\089_尚硅谷_react教程_总结路由参数.mp4\n",
      "90-32.mp4\n",
      "./sgg\\90-32.mp4 ======> ./sgg\\090_尚硅谷_react教程_push与repalce.mp4\n",
      "91-32.mp4\n",
      "./sgg\\91-32.mp4 ======> ./sgg\\091_尚硅谷_react教程_编程式路由导航.mp4\n",
      "92-32.mp4\n",
      "./sgg\\92-32.mp4 ======> ./sgg\\092_尚硅谷_react教程_withRouter的使用.mp4\n",
      "93-32.mp4\n",
      "./sgg\\93-32.mp4 ======> ./sgg\\093_尚硅谷_react教程_BrowserRouter与HashRouter.mp4\n",
      "94-32.mp4\n",
      "./sgg\\94-32.mp4 ======> ./sgg\\094_尚硅谷_react教程_antd的基本使用.mp4\n",
      "95-32.mp4\n",
      "./sgg\\95-32.mp4 ======> ./sgg\\095_尚硅谷_react教程_antd样式的按需引入.mp4\n",
      "96-32.mp4\n",
      "./sgg\\96-32.mp4 ======> ./sgg\\096_尚硅谷_react教程_antd自定义主题.mp4\n",
      "97-32.mp4\n",
      "./sgg\\97-32.mp4 ======> ./sgg\\097_尚硅谷_react教程_redux简介.mp4\n",
      "98-32.mp4\n",
      "./sgg\\98-32.mp4 ======> ./sgg\\098_尚硅谷_react教程_redux工作流程.mp4\n",
      "99-32.mp4\n",
      "./sgg\\99-32.mp4 ======> ./sgg\\099_尚硅谷_react教程_求和案例_纯react版.mp4\n",
      "100-32.mp4\n",
      "./sgg\\100-32.mp4 ======> ./sgg\\100_尚硅谷_react教程_求和案例_redux精简版.mp4\n",
      "101-32.mp4\n",
      "./sgg\\101-32.mp4 ======> ./sgg\\101_尚硅谷_react教程_求和案例_redux完整版.mp4\n",
      "102-32.mp4\n",
      "./sgg\\102-32.mp4 ======> ./sgg\\102_尚硅谷_react教程_求和案例_异步action版.mp4\n",
      "103-32.mp4\n",
      "./sgg\\103-32.mp4 ======> ./sgg\\103_尚硅谷_react教程_对react-redux的理解.mp4\n",
      "104-32.mp4\n",
      "./sgg\\104-32.mp4 ======> ./sgg\\104_尚硅谷_react教程_连接容器组件与UI组件.mp4\n",
      "105-32.mp4\n",
      "./sgg\\105-32.mp4 ======> ./sgg\\105_尚硅谷_react教程_react-redux基本使用.mp4\n",
      "106-32.mp4\n",
      "./sgg\\106-32.mp4 ======> ./sgg\\106_尚硅谷_react教程_优化1_简写mapDispatch.mp4\n",
      "107-32.mp4\n",
      "./sgg\\107-32.mp4 ======> ./sgg\\107_尚硅谷_react教程_优化2_Provider组件的使用.mp4\n",
      "108-32.mp4\n",
      "./sgg\\108-32.mp4 ======> ./sgg\\108_尚硅谷_react教程_优化3_整合UI组件与容器组件.mp4\n",
      "109-32.mp4\n",
      "./sgg\\109-32.mp4 ======> ./sgg\\109_尚硅谷_react教程_数据共享_编写Person组件.mp4\n",
      "110-32.mp4\n",
      "./sgg\\110-32.mp4 ======> ./sgg\\110_尚硅谷_react教程_数据共享_编写Person组件的reducer.mp4\n",
      "111-32.mp4\n",
      "./sgg\\111-32.mp4 ======> ./sgg\\111_尚硅谷_react教程_数据共享_完成数据共享.mp4\n",
      "112-32.mp4\n",
      "./sgg\\112-32.mp4 ======> ./sgg\\112_尚硅谷_react教程_纯函数.mp4\n",
      "113-32.mp4\n",
      "./sgg\\113-32.mp4 ======> ./sgg\\113_尚硅谷_react教程_redux开发者工具.mp4\n",
      "114-32.mp4\n",
      "./sgg\\114-32.mp4 ======> ./sgg\\114_尚硅谷_react教程_最终版.mp4\n",
      "115-32.mp4\n",
      "./sgg\\115-32.mp4 ======> ./sgg\\115_尚硅谷_react教程_项目打包运行.mp4\n",
      "116-32.mp4\n",
      "./sgg\\116-32.mp4 ======> ./sgg\\116_尚硅谷_react教程_扩展1_setState.mp4\n",
      "117-32.mp4\n",
      "./sgg\\117-32.mp4 ======> ./sgg\\117_尚硅谷_react教程_扩展2_lazyLoad.mp4\n",
      "118-32.mp4\n",
      "./sgg\\118-32.mp4 ======> ./sgg\\118_尚硅谷_react教程_扩展3_stateHook.mp4\n",
      "119-32.mp4\n",
      "./sgg\\119-32.mp4 ======> ./sgg\\119_尚硅谷_react教程_扩展4_EffectHook.mp4\n",
      "120-32.mp4\n",
      "./sgg\\120-32.mp4 ======> ./sgg\\120_尚硅谷_react教程_扩展5_RefHook.mp4\n",
      "121-32.mp4\n",
      "./sgg\\121-32.mp4 ======> ./sgg\\121_尚硅谷_react教程_扩展6_Fragment.mp4\n",
      "122-32.mp4\n",
      "./sgg\\122-32.mp4 ======> ./sgg\\122_尚硅谷_react教程_扩展7_Context.mp4\n",
      "123-32.mp4\n",
      "./sgg\\123-32.mp4 ======> ./sgg\\123_尚硅谷_react教程_扩展8_PureComponent.mp4\n",
      "124-32.mp4\n",
      "./sgg\\124-32.mp4 ======> ./sgg\\124_尚硅谷_react教程_扩展9_renderProps.mp4\n",
      "125-32.mp4\n",
      "./sgg\\125-32.mp4 ======> ./sgg\\125_尚硅谷_react教程_扩展10_ErrorBoundary.mp4\n",
      "126-32.mp4\n",
      "./sgg\\126-32.mp4 ======> ./sgg\\126_尚硅谷_react教程_组件间通信方式总结.mp4\n",
      "127-32.mp4\n",
      "./sgg\\127-32.mp4 ======> ./sgg\\127_尚硅谷_ReactRouter6教程_课程说明.mp4\n",
      "128-32.mp4\n",
      "./sgg\\128-32.mp4 ======> ./sgg\\128_尚硅谷_ReactRouter6教程_一级路由.mp4\n",
      "129-32.mp4\n",
      "./sgg\\129-32.mp4 ======> ./sgg\\129_尚硅谷_ReactRouter6教程_重定向.mp4\n",
      "130-32.mp4\n",
      "./sgg\\130-32.mp4 ======> ./sgg\\130_尚硅谷_ReactRouter6教程_NavLink高亮.mp4\n",
      "131-32.mp4\n",
      "./sgg\\131-32.mp4 ======> ./sgg\\131_尚硅谷_ReactRouter6教程_useRoutes路由表.mp4\n",
      "132-32.mp4\n",
      "./sgg\\132-32.mp4 ======> ./sgg\\132_尚硅谷_ReactRouter6教程_嵌套路由.mp4\n",
      "133-32.mp4\n",
      "./sgg\\133-32.mp4 ======> ./sgg\\133_尚硅谷_ReactRouter6教程_路由的params参数.mp4\n",
      "134-32.mp4\n",
      "./sgg\\134-32.mp4 ======> ./sgg\\134_尚硅谷_ReactRouter6教程_路由的search参数.mp4\n",
      "135-32.mp4\n",
      "./sgg\\135-32.mp4 ======> ./sgg\\135_尚硅谷_ReactRouter6教程_路由的state参数.mp4\n",
      "136-32.mp4\n",
      "./sgg\\136-32.mp4 ======> ./sgg\\136_尚硅谷_ReactRouter6教程_编程式路由导航.mp4\n",
      "137-32.mp4\n",
      "./sgg\\137-32.mp4 ======> ./sgg\\137_尚硅谷_ReactRouter6教程_useInRouterContext.mp4\n",
      "138-32.mp4\n",
      "./sgg\\138-32.mp4 ======> ./sgg\\138_尚硅谷_ReactRouter6教程_useNavigationType.mp4\n",
      "139-32.mp4\n",
      "./sgg\\139-32.mp4 ======> ./sgg\\139_尚硅谷_ReactRouter6教程_useOutlet.mp4\n",
      "140-32.mp4\n",
      "./sgg\\140-32.mp4 ======> ./sgg\\140_尚硅谷_ReactRouter6教程_useOutletuseResolvedPath.mp4\n",
      "141-32.mp4\n",
      "./sgg\\141-32.mp4 ======> ./sgg\\141_尚硅谷_ReactRouter6教程_总结.mp4\n"
     ]
    }
   ],
   "source": [
    "for i in range(1,142):\n",
    "    print(dict1[i])\n",
    "    #设置旧文件名（就是路径+文件名）\n",
    "    oldname=path+ os.sep + dict1[i]# os.sep添加系统分隔符\n",
    "    \n",
    "    #设置新文件名\n",
    "    newname=path + os.sep +dict2[i]+\".mp4\"\n",
    "    os.rename(oldname,newname)   #用os模块中的rename方法对文件改名\n",
    "    print(oldname,'======>',newname)\n",
    "\n"
   ]
  },
  {
   "cell_type": "code",
   "execution_count": 114,
   "id": "e35c8a89",
   "metadata": {
    "ExecuteTime": {
     "end_time": "2023-04-19T15:08:53.593414Z",
     "start_time": "2023-04-19T15:08:53.550605Z"
    }
   },
   "outputs": [],
   "source": [
    "for i in fileList:\n",
    "    \n",
    "    #设置旧文件名（就是路径+文件名）\n",
    "    oldname=path+ os.sep + i # os.sep添加系统分隔符\n",
    "    \n",
    "    #设置新文件名\n",
    "    newname=path + os.sep +i[1:]\n",
    "    os.rename(oldname,newname)   #用os模块中的rename方法对文件改名\n",
    "    #print(oldname,'======>',newname)"
   ]
  },
  {
   "cell_type": "code",
   "execution_count": 126,
   "id": "1f26e9e5",
   "metadata": {
    "ExecuteTime": {
     "end_time": "2023-04-19T15:13:33.556833Z",
     "start_time": "2023-04-19T15:13:33.522962Z"
    }
   },
   "outputs": [],
   "source": [
    "for i in fileList:\n",
    "    \n",
    "    #设置旧文件名（就是路径+文件名）\n",
    "    oldname=path+ os.sep + i # os.sep添加系统分隔符\n",
    "    \n",
    "    #设置新文件名\n",
    "    newname=path + os.sep +i.replace(\"尚硅谷_\",\"\")\n",
    "    os.rename(oldname,newname)   #用os模块中的rename方法对文件改名\n",
    "    #print(oldname,'======>',newname)"
   ]
  },
  {
   "cell_type": "code",
   "execution_count": null,
   "id": "469b2581",
   "metadata": {},
   "outputs": [],
   "source": []
  }
 ],
 "metadata": {
  "kernelspec": {
   "display_name": "Python 3 (ipykernel)",
   "language": "python",
   "name": "python3"
  },
  "language_info": {
   "codemirror_mode": {
    "name": "ipython",
    "version": 3
   },
   "file_extension": ".py",
   "mimetype": "text/x-python",
   "name": "python",
   "nbconvert_exporter": "python",
   "pygments_lexer": "ipython3",
   "version": "3.10.10"
  },
  "toc": {
   "base_numbering": 1,
   "nav_menu": {},
   "number_sections": true,
   "sideBar": true,
   "skip_h1_title": false,
   "title_cell": "Table of Contents",
   "title_sidebar": "Contents",
   "toc_cell": false,
   "toc_position": {},
   "toc_section_display": true,
   "toc_window_display": false
  }
 },
 "nbformat": 4,
 "nbformat_minor": 5
}
